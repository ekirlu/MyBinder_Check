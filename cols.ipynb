{
 "cells": [
  {
   "cell_type": "code",
   "execution_count": 35,
   "id": "db033cf8-bcc6-4d81-a130-e4b8fc7a8257",
   "metadata": {},
   "outputs": [
    {
     "name": "stdout",
     "output_type": "stream",
     "text": [
      "Stored 'color_dict' (dict)\n"
     ]
    }
   ],
   "source": [
    "color_dict = {\n",
    "        '--jq-multiple-choice-bg': '#ffffff',   # Background for the question part of multiple-choice questions\n",
    "        '--jq-mc-button-bg': '#ffffff',           # Background for the buttons when not pressed\n",
    "        '--jq-mc-button-border': '#e0e0e0e0',     # Border of the buttons\n",
    "        '--jq-mc-button-inset-shadow': '#f1c232', # Color of inset shadow for pressed buttons\n",
    "        '--jq-many-choice-bg': '#ffffff',       # Background for question part of many-choice questions\n",
    "        '--jq-numeric-bg': '#ffffff',           # Background for question part of numeric questions\n",
    "        '--jq-numeric-input-bg': '#c0c0c0',       # Background for input area of numeric questions\n",
    "        '--jq-numeric-input-label': '#000000',    # Color for input of numeric questions\n",
    "        '--jq-numeric-input-shadow': '#ffffff',   # Color for shadow of input area of numeric questions when selected\n",
    "        '--jq-incorrect-color': '#f44336',        # Color for incorrect answers \n",
    "        '--jq-correct-color': '#8fce00',          # Color for correct answers\n",
    "        '--jq-text-color': '#116172'              # Color for question text\n",
    "    }\n",
    "\n",
    "%store color_dict\n",
    "\n"
   ]
  }
 ],
 "metadata": {
  "kernelspec": {
   "display_name": "Python 3 (ipykernel)",
   "language": "python",
   "name": "python3"
  },
  "language_info": {
   "codemirror_mode": {
    "name": "ipython",
    "version": 3
   },
   "file_extension": ".py",
   "mimetype": "text/x-python",
   "name": "python",
   "nbconvert_exporter": "python",
   "pygments_lexer": "ipython3",
   "version": "3.9.13"
  }
 },
 "nbformat": 4,
 "nbformat_minor": 5
}
